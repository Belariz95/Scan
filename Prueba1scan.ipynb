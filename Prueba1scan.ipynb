{
  "nbformat": 4,
  "nbformat_minor": 0,
  "metadata": {
    "colab": {
      "name": "Untitled1.ipynb",
      "provenance": [],
      "authorship_tag": "ABX9TyMG3pevhURKX4um9fYTkqyg",
      "include_colab_link": true
    },
    "kernelspec": {
      "name": "python3",
      "display_name": "Python 3"
    }
  },
  "cells": [
    {
      "cell_type": "markdown",
      "metadata": {
        "id": "view-in-github",
        "colab_type": "text"
      },
      "source": [
        "<a href=\"https://colab.research.google.com/github/Belariz95/Scan/blob/master/Prueba1scan.ipynb\" target=\"_parent\"><img src=\"https://colab.research.google.com/assets/colab-badge.svg\" alt=\"Open In Colab\"/></a>"
      ]
    },
    {
      "cell_type": "code",
      "metadata": {
        "id": "FlOepK-uBGqp",
        "colab_type": "code",
        "colab": {
          "base_uri": "https://localhost:8080/",
          "height": 374
        },
        "outputId": "4aef3a9d-712d-451c-fe39-e9c1cdb5859f"
      },
      "source": [
        " import itertools\n",
        "import tensorflow.compat.v1 as tf\n",
        "from object_detection.inference import detection_inference\n",
        "\n",
        "!pip install \n",
        "\n",
        "tf.flags.DEFINE_string('input_tfrecord_paths', None,\n",
        "                       'A comma separated list of paths to input TFRecords.')\n",
        "tf.flags.DEFINE_string('output_tfrecord_path', None,\n",
        "                       'Path to the output TFRecord.')\n",
        "tf.flags.DEFINE_string('inference_graph', None,\n",
        "                       'Path to the inference graph with embedded weights.')\n",
        "tf.flags.DEFINE_boolean('discard_image_pixels', False,\n",
        "                        'Discards the images in the output TFExamples. This'\n",
        "                        ' significantly reduces the output size and is useful'\n",
        "                        ' if the subsequent tools don\\'t need access to the'\n",
        "                        ' images (e.g. when computing evaluation measures).')\n",
        "\n",
        "FLAGS = tf.flags.FLAGS\n",
        "\n",
        "\n",
        "def main(_):\n",
        "  tf.logging.set_verbosity(tf.logging.INFO)\n",
        "\n",
        "  required_flags = ['input_tfrecord_paths', 'output_tfrecord_path',\n",
        "                    'inference_graph']\n",
        "  for flag_name in required_flags:\n",
        "    if not getattr(FLAGS, flag_name):\n",
        "      raise ValueError('Flag --{} is required'.format(flag_name))\n",
        "\n",
        "  with tf.Session() as sess:\n",
        "    input_tfrecord_paths = [\n",
        "        v for v in FLAGS.input_tfrecord_paths.split(',') if v]\n",
        "    tf.logging.info('Reading input from %d files', len(input_tfrecord_paths))\n",
        "    serialized_example_tensor, image_tensor = detection_inference.build_input(\n",
        "        input_tfrecord_paths)\n",
        "    tf.logging.info('Reading graph and building model...')\n",
        "    (detected_boxes_tensor, detected_scores_tensor,\n",
        "     detected_labels_tensor) = detection_inference.build_inference_graph(\n",
        "         image_tensor, FLAGS.inference_graph)\n",
        "\n",
        "    tf.logging.info('Running inference and writing output to {}'.format(\n",
        "        FLAGS.output_tfrecord_path))\n",
        "    sess.run(tf.local_variables_initializer())\n",
        "    tf.train.start_queue_runners()\n",
        "    with tf.python_io.TFRecordWriter(\n",
        "        FLAGS.output_tfrecord_path) as tf_record_writer:\n",
        "      try:\n",
        "        for counter in itertools.count():\n",
        "          tf.logging.log_every_n(tf.logging.INFO, 'Processed %d images...', 10,\n",
        "                                 counter)\n",
        "          tf_example = detection_inference.infer_detections_and_add_to_example(\n",
        "              serialized_example_tensor, detected_boxes_tensor,\n",
        "              detected_scores_tensor, detected_labels_tensor,\n",
        "              FLAGS.discard_image_pixels)\n",
        "          tf_record_writer.write(tf_example.SerializeToString())\n",
        "      except tf.errors.OutOfRangeError:\n",
        "        tf.logging.info('Finished processing records')\n",
        "\n",
        "\n",
        "if __name__ == '__main__':\n",
        "  tf.app.run()"
      ],
      "execution_count": 3,
      "outputs": [
        {
          "output_type": "error",
          "ename": "ModuleNotFoundError",
          "evalue": "ignored",
          "traceback": [
            "\u001b[0;31m---------------------------------------------------------------------------\u001b[0m",
            "\u001b[0;31mModuleNotFoundError\u001b[0m                       Traceback (most recent call last)",
            "\u001b[0;32m<ipython-input-3-65760649e5e4>\u001b[0m in \u001b[0;36m<module>\u001b[0;34m()\u001b[0m\n\u001b[1;32m      1\u001b[0m \u001b[0;32mimport\u001b[0m \u001b[0mitertools\u001b[0m\u001b[0;34m\u001b[0m\u001b[0;34m\u001b[0m\u001b[0m\n\u001b[1;32m      2\u001b[0m \u001b[0;32mimport\u001b[0m \u001b[0mtensorflow\u001b[0m\u001b[0;34m.\u001b[0m\u001b[0mcompat\u001b[0m\u001b[0;34m.\u001b[0m\u001b[0mv1\u001b[0m \u001b[0;32mas\u001b[0m \u001b[0mtf\u001b[0m\u001b[0;34m\u001b[0m\u001b[0;34m\u001b[0m\u001b[0m\n\u001b[0;32m----> 3\u001b[0;31m \u001b[0;32mfrom\u001b[0m \u001b[0mobject_detection\u001b[0m\u001b[0;34m.\u001b[0m\u001b[0minference\u001b[0m \u001b[0;32mimport\u001b[0m \u001b[0mdetection_inference\u001b[0m\u001b[0;34m\u001b[0m\u001b[0;34m\u001b[0m\u001b[0m\n\u001b[0m\u001b[1;32m      4\u001b[0m \u001b[0;34m\u001b[0m\u001b[0m\n\u001b[1;32m      5\u001b[0m \u001b[0mget_ipython\u001b[0m\u001b[0;34m(\u001b[0m\u001b[0;34m)\u001b[0m\u001b[0;34m.\u001b[0m\u001b[0msystem\u001b[0m\u001b[0;34m(\u001b[0m\u001b[0;34m'pip install '\u001b[0m\u001b[0;34m)\u001b[0m\u001b[0;34m\u001b[0m\u001b[0;34m\u001b[0m\u001b[0m\n",
            "\u001b[0;31mModuleNotFoundError\u001b[0m: No module named 'object_detection'",
            "",
            "\u001b[0;31m---------------------------------------------------------------------------\u001b[0;32m\nNOTE: If your import is failing due to a missing package, you can\nmanually install dependencies using either !pip or !apt.\n\nTo view examples of installing some common dependencies, click the\n\"Open Examples\" button below.\n\u001b[0;31m---------------------------------------------------------------------------\u001b[0m\n"
          ]
        }
      ]
    }
  ]
}